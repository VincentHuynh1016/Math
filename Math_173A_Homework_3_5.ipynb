{
  "cells": [
    {
      "cell_type": "markdown",
      "metadata": {
        "id": "1LYN8oNwT6O4"
      },
      "source": [
        "# Overview:  HW3 - Question 4\n",
        "\n",
        "In this coding question, you'll implement a classifier with logistic regression\n",
        "$$ F(w) = \\frac{1}{N} \\sum_{i=1}^N \\log( 1 + e^{-\\langle w, x_i \\rangle y_i} ). $$\n",
        "\n",
        "For this problem, I would suggest using functions to prepare the dataset, run gradient descent, and return classification error.  By doing this, you only have to write the code one time and just use the functions to return results for part (4c)."
      ]
    },
    {
      "cell_type": "markdown",
      "metadata": {
        "id": "jdODohlST6O6"
      },
      "source": [
        "# Loading MNIST Data\n",
        "\n",
        "In this section, you will learn to load MNIST data.  If you do not have tensorflow available on your jupyter notebook, uncomment the next cell, run it, restart the kernel, and comment the next cell once more."
      ]
    },
    {
      "cell_type": "code",
      "execution_count": 5,
      "metadata": {
        "id": "EO2_XFYBT6O6"
      },
      "outputs": [],
      "source": [
        "#!pip3 install sklearn"
      ]
    },
    {
      "cell_type": "code",
      "execution_count": 1,
      "metadata": {
        "id": "2AdlMCu8T6O6"
      },
      "outputs": [],
      "source": [
        "# import statements\n",
        "import pandas as pd\n",
        "import numpy as np\n",
        "from matplotlib import pyplot as plt\n",
        "from sklearn.datasets import fetch_openml"
      ]
    },
    {
      "cell_type": "code",
      "execution_count": 2,
      "metadata": {
        "id": "mkaGmup2T6O7",
        "outputId": "b8407159-3e8a-4b20-d21a-149be38d4913",
        "colab": {
          "base_uri": "https://localhost:8080/"
        }
      },
      "outputs": [
        {
          "output_type": "stream",
          "name": "stdout",
          "text": [
            "X shape: (70000, 784) y shape: (70000,)\n"
          ]
        }
      ],
      "source": [
        "# this cell will take a minute to run depending on your internet connection\n",
        "X, y = fetch_openml('mnist_784', version=1, return_X_y=True) # getting data from online\n",
        "print('X shape:', X.shape, 'y shape:', y.shape)"
      ]
    },
    {
      "cell_type": "code",
      "execution_count": 3,
      "metadata": {
        "id": "2ggUvF7oT6O7",
        "outputId": "9f2dd6fa-03aa-4d69-9a59-dcbf1d65f429",
        "colab": {
          "base_uri": "https://localhost:8080/"
        }
      },
      "outputs": [
        {
          "output_type": "stream",
          "name": "stdout",
          "text": [
            "Shape of data with label 0 : (6903, 28, 28)\n",
            "Shape of data with label 1 : (7877, 28, 28)\n",
            "Shape of data with label 2 : (6990, 28, 28)\n",
            "Shape of data with label 3 : (7141, 28, 28)\n",
            "Shape of data with label 4 : (6824, 28, 28)\n",
            "Shape of data with label 5 : (6313, 28, 28)\n",
            "Shape of data with label 6 : (6876, 28, 28)\n",
            "Shape of data with label 7 : (7293, 28, 28)\n",
            "Shape of data with label 8 : (6825, 28, 28)\n",
            "Shape of data with label 9 : (6958, 28, 28)\n"
          ]
        }
      ],
      "source": [
        "# this cell processes some of the data\n",
        "\n",
        "# if this returns an error of the form \"KeyError: 0\", then try running the following first:\n",
        "# X = X.values # this converts X from a pandas dataframe to a numpy array\n",
        "if isinstance(X, pd.DataFrame):\n",
        "    X = X.values\n",
        "\n",
        "\n",
        "digits = {j:[] for j in range(10)}\n",
        "for j in range(len(y)): # takes data assigns it into a dictionary\n",
        "    digits[int(y[j])].append(X[j].reshape(28,28))\n",
        "digits = {j:np.stack(digits[j]) for j in range(10)} # stack everything to be one numpy array\n",
        "for j in range(10):\n",
        "    print('Shape of data with label', j, ':', digits[j].shape )"
      ]
    },
    {
      "cell_type": "code",
      "execution_count": 9,
      "metadata": {
        "id": "3WxemvLMT6O7",
        "colab": {
          "base_uri": "https://localhost:8080/",
          "height": 0
        },
        "outputId": "e4d6299d-9be8-419f-d5d3-ca65dc8a7001"
      },
      "outputs": [
        {
          "output_type": "execute_result",
          "data": {
            "text/plain": [
              "(1000, 784)"
            ]
          },
          "metadata": {},
          "execution_count": 9
        }
      ],
      "source": [
        "# this cell would stack 100 examples from each class together\n",
        "# this cell also ensures that each pixel is a flot between 0 and 1 instead of an int between 0 and 255\n",
        "data = []\n",
        "for i in range(10):\n",
        "    flattened_images = digits[i][:100].reshape(100,-1)\n",
        "    data.append(flattened_images)\n",
        "\n",
        "data = np.vstack(data)\n",
        "data = data.astype('float32') / 255.0"
      ]
    },
    {
      "cell_type": "markdown",
      "metadata": {
        "id": "cqTrBrdlT6O7"
      },
      "source": [
        "# (4a) Plotting\n",
        "\n",
        "Display one randomly selected image from your training data for each digit class. Provide the index number for each image."
      ]
    },
    {
      "cell_type": "code",
      "execution_count": 52,
      "metadata": {
        "id": "X_Rl4nM3T6O8",
        "colab": {
          "base_uri": "https://localhost:8080/",
          "height": 334
        },
        "outputId": "f8f89c55-df31-4554-ba69-f018b485d7f5"
      },
      "outputs": [
        {
          "output_type": "display_data",
          "data": {
            "text/plain": [
              "<Figure size 800x400 with 10 Axes>"
            ],
            "image/png": "[encoded data removed]"
          },
          "metadata": {}
        }
      ],
      "source": [
        "# plot data here (this should have an output)\n",
        "figure, axes= plt.subplots(2, 5, figsize=(8, 4))\n",
        "axes = axes.flatten()\n",
        "\n",
        "for i in range(10):\n",
        "    randomIndex = np.random.randint(0, len(digits[i]))\n",
        "    axes[i].imshow(digits[i][randomIndex])\n",
        "    axes[i].set_title(f'Index: {randomIndex}')\n",
        "    axes[i].set_xticks([])\n",
        "    axes[i].set_yticks([])\n",
        "\n",
        "plt.show()\n"
      ]
    },
    {
      "cell_type": "markdown",
      "metadata": {
        "id": "W3vSFZGDT6O8"
      },
      "source": [
        "# (4b) Label data\n",
        "\n",
        "Select the first 500 examples of 0’s and 1’s for this example, those will form the training data $(x_i , y_i) \\in \\mathbb{R}^{784} \\times \\{−1,1\\}, i = 1,...,1000$. Assign label $y_i = 1$ for 1s and $y_i = −1$ for 0s.  Also, renormalize your $x_i$ so that the pixel values are floats between 0 and 1, instead of ints from 0 to 255.  You can do this by augmenting the code given above for stacking data from different classes."
      ]
    },
    {
      "cell_type": "code",
      "execution_count": 19,
      "metadata": {
        "id": "_mYyHju2T6O8"
      },
      "outputs": [],
      "source": [
        "# create dataset here (essentially just create a numpy array of 1's and -1's for the labels)\n",
        "zero500 = digits[0][:500] #Getting the first 500 exampls of 0's\n",
        "one500 = digits[1][:500] #Getting the first 500 examples of 1's\n",
        "\n",
        "#Using the tip of creating num[y array of 1's and -1's\n",
        "zeroLabels = np.full(500, -1)\n",
        "oneLabels = np.full(500, 1)\n",
        "\n",
        "\n",
        "newZero = []\n",
        "for image in zero500:\n",
        "  flattened_images = image.flatten()\n",
        "  newZero.append(flattened_images)\n",
        "\n",
        "\n",
        "newZero = np.vstack(newZero)\n",
        "newZero = newZero.astype('float32') / 255.0\n",
        "\n",
        "\n",
        "newOne = []\n",
        "#Doing the same for the ones\n",
        "for image in one500:\n",
        "  flattened_images = image.flatten()\n",
        "  newOne.append(flattened_images)\n",
        "\n",
        "newOne = np.vstack(newOne)\n",
        "newOne = newOne.astype('float32') / 255.0\n",
        "\n",
        "\n",
        "#Alright time to combine\n",
        "trainingData = np.vstack((newZero, newOne))\n",
        "trainingLabel = np.concatenate((zeroLabels, oneLabels))\n"
      ]
    },
    {
      "cell_type": "markdown",
      "metadata": {
        "id": "RWECXj_0T6O8"
      },
      "source": [
        "# (4c) Running Gradient Descent\n",
        "\n",
        "Implement and run a Gradient Descent algorithm, with step-size $\\mu = 10^{-4}$, to optimize the function above associated with this setup. You should run your algorithm for at least $T = 10,000$ iterations, but if your computer can handle it try $T=100,000$ or until a reasonable stopping criterion is satisfied.  Provide a plot showing the value of $F(w)$ at each iteration. Also, feel free to adjust $\\mu$ to be larger / smaller if the plot does not match your expectations."
      ]
    },
    {
      "cell_type": "code",
      "execution_count": 28,
      "metadata": {
        "id": "v9RAo3GZT6O8",
        "colab": {
          "base_uri": "https://localhost:8080/",
          "height": 465
        },
        "outputId": "98f7acdb-792d-4529-95cc-7b075e6cd040"
      },
      "outputs": [
        {
          "output_type": "display_data",
          "data": {
            "text/plain": [
              "<Figure size 640x480 with 1 Axes>"
            ],
            "image/png": "[encoded data removed]"
          },
          "metadata": {}
        }
      ],
      "source": [
        "# implement gradient descent here\n",
        "mu = 1e-3\n",
        "iterations = 50000\n",
        "\n",
        "Fvals = []\n",
        "\n",
        "def F(w):\n",
        "    N = len(trainingData)  # Number of training samples\n",
        "    summation = 0\n",
        "\n",
        "    # Loop through each training example\n",
        "    for i in range(N):\n",
        "        x = trainingData[i]\n",
        "        y = trainingLabel[i]\n",
        "\n",
        "        # log(1 + exp(-w.T * x_i * y_i))\n",
        "        exponent = -np.dot(w, x) * y\n",
        "        summation += np.log(1 + np.exp(exponent))\n",
        "\n",
        "    return summation / N\n",
        "\n",
        "\n",
        "def gradientDescent(w):\n",
        "    N = len(trainingData)\n",
        "    result = np.zeros(w.shape)\n",
        "\n",
        "    for i in range(N):\n",
        "        x = trainingData[i]\n",
        "        y = trainingLabel[i]\n",
        "\n",
        "        exponent = np.dot(w, x) * y\n",
        "        numerator = -y * x\n",
        "        denominator = np.exp(exponent) + 1\n",
        "\n",
        "        summationVal = numerator / denominator\n",
        "\n",
        "        result += summationVal\n",
        "\n",
        "    return result\n",
        "\n",
        "\n",
        "\n",
        "\n",
        "for t in range(iterations):\n",
        "    Fvals.append(F(w))\n",
        "    gradient = gradientDescent(w)\n",
        "    w = w - mu * gradient\n",
        "\n",
        "\n",
        "plt.plot(Fvals)\n",
        "plt.xlabel('Iteration')\n",
        "plt.ylabel('F(w)')\n",
        "plt.show()\n",
        "\n"
      ]
    },
    {
      "cell_type": "markdown",
      "metadata": {
        "id": "8YjF7yJ7T6O8"
      },
      "source": [
        "# (4d) Discussion about gradient descent\n",
        "\n",
        "Comment on the resulting plot. In particular, does the shape of $F(w)$ suggest you've successfully converged to a local or global minimum?  Does it appear you chose a good stopping criteria?  Explain whether your\n",
        "answers to these questions are consistent with the theory we discussed in class (and in the\n",
        "notes). Be specific i.e., point to a specific theorem (or theorems) and indicate\n",
        "why it does or does not explain the behavior of the algorithm.  Would the theory dictate a different choice of $\\mu$ than the one we used?"
      ]
    },
    {
      "cell_type": "markdown",
      "metadata": {
        "id": "spQ7aKAWT6O8"
      },
      "source": [
        "I would say that the graph provided is approaching a minimum but has not clearly reached one because it has not fully leveled out yet. I changed the amount of iterations to 50,000 and not 100,000 because it takes to long to load and also to show a more clean and to allow the GD to get closer to the minimum. I changed the mu value to a bigger value so that the convergence can be sped up. I would say that the my answer does follow the idea in class that the GD will steadily reach a global min if we find a small enough mu."
      ]
    },
    {
      "cell_type": "markdown",
      "metadata": {
        "id": "r8YXMjcsT6O8"
      },
      "source": [
        "Now, use the $w$ you found from part (a) to classify the first 500 \\emph{test} data points associated to\n",
        "each of the 0 and 1 handwritten digits. Recall that you need to use the function $y = \\text{sign}(w^T x)$\n",
        "to classify. What was the classification error rate associated with the two digits on the test\n",
        "data (this should be a number between 0 and 1)? What was it on the training data?  Does this relationship make sense?"
      ]
    },
    {
      "cell_type": "code",
      "execution_count": 41,
      "metadata": {
        "id": "yE8B1VBOT6O9",
        "colab": {
          "base_uri": "https://localhost:8080/",
          "height": 0
        },
        "outputId": "e5b3909b-7d72-423a-9c25-b3db63887c18"
      },
      "outputs": [
        {
          "output_type": "stream",
          "name": "stdout",
          "text": [
            "The Test error rate is: 0.1 %\n",
            "The Training error rate is 0.0 %\n",
            "This relationship makes sense because it represents that the model performs well. The difference is small which means that it is very accurate\n"
          ]
        }
      ],
      "source": [
        "# Prepare test data for 0's and 1's (flatten and normalize)\n",
        "testZero = digits[0][500:1000]\n",
        "testOne = digits[1][500:1000]\n",
        "\n",
        "newZero = []\n",
        "for image in testZero:\n",
        "    flattened_image = image.flatten()\n",
        "    newZero.append(flattened_image)\n",
        "newZero = np.vstack(newZero).astype('float32') / 255.0\n",
        "\n",
        "newOne = []\n",
        "for image in testOne:\n",
        "    flattened_image = image.flatten()\n",
        "    newOne.append(flattened_image)\n",
        "newOne = np.vstack(newOne).astype('float32') / 255.0\n",
        "\n",
        "testData = np.vstack((newZero, newOne))\n",
        "labelData = np.concatenate((np.full(500, -1), np.full(500, 1)))\n",
        "\n",
        "predict = np.sign(testData @ w)  # y = sign(w.T * x)\n",
        "\n",
        "errorRate = np.mean(predict != labelData)\n",
        "\n",
        "trainPredict = np.sign(trainingData @ w)\n",
        "trainError = np.mean(trainPredict != trainingLabel)\n",
        "\n",
        "print(\"The Test error rate is:\", errorRate * 100, \"%\")\n",
        "print(\"The Training error rate is\", trainError * 100, \"%\")\n",
        "\n",
        "print(\"This relationship makes sense because it represents that the model performs well. The difference is small which means that it is very accurate\")\n",
        "\n",
        "\n"
      ]
    }
  ],
  "metadata": {
    "kernelspec": {
      "display_name": "Python 3",
      "language": "python",
      "name": "python3"
    },
    "language_info": {
      "codemirror_mode": {
        "name": "ipython",
        "version": 3
      },
      "file_extension": ".py",
      "mimetype": "text/x-python",
      "name": "python",
      "nbconvert_exporter": "python",
      "pygments_lexer": "ipython3",
      "version": "3.11.5"
    },
    "toc": {
      "base_numbering": 1,
      "nav_menu": {},
      "number_sections": true,
      "sideBar": true,
      "skip_h1_title": false,
      "title_cell": "Table of Contents",
      "title_sidebar": "Contents",
      "toc_cell": false,
      "toc_position": {},
      "toc_section_display": true,
      "toc_window_display": false
    },
    "colab": {
      "provenance": []
    }
  },
  "nbformat": 4,
  "nbformat_minor": 0
}